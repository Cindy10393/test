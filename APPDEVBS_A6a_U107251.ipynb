{
  "nbformat": 4,
  "nbformat_minor": 0,
  "metadata": {
    "colab": {
      "provenance": []
    },
    "kernelspec": {
      "name": "python3",
      "display_name": "Python 3"
    },
    "language_info": {
      "name": "python"
    }
  },
  "cells": [
    {
      "cell_type": "markdown",
      "source": [
        "# Assignment A6a: Find Data"
      ],
      "metadata": {
        "id": "o8UJ13Rb0Nm-"
      }
    },
    {
      "cell_type": "markdown",
      "source": [
        "In this assignment, we apply basic functions to explore and filter the data in a shape file, functions, and methods like *buffer*, *intersects* and *within* to solve the use cases. Also, we use libraries like geopanda, shapely and pyproj."
      ],
      "metadata": {
        "id": "hG7jFmkO0vPz"
      }
    },
    {
      "cell_type": "markdown",
      "source": [
        "## Prerequisites"
      ],
      "metadata": {
        "id": "3M0vEKds2d7u"
      }
    },
    {
      "cell_type": "markdown",
      "source": [
        "Install geopanda library with *pip install*. See [detailed instructions](https://geopandas.org/en/stable/getting_started/install). \n",
        "\n"
      ],
      "metadata": {
        "id": "eRSoJWY92r5u"
      }
    },
    {
      "cell_type": "code",
      "execution_count": 4,
      "metadata": {
        "colab": {
          "base_uri": "https://localhost:8080/"
        },
        "id": "pPRJYwuq4q0M",
        "outputId": "b871d596-36f5-45b0-fc9c-57e7cc7c0325"
      },
      "outputs": [
        {
          "output_type": "stream",
          "name": "stdout",
          "text": [
            "Looking in indexes: https://pypi.org/simple, https://us-python.pkg.dev/colab-wheels/public/simple/\n",
            "Collecting geopandas\n",
            "  Downloading geopandas-0.13.0-py3-none-any.whl (1.1 MB)\n",
            "\u001b[2K     \u001b[90m━━━━━━━━━━━━━━━━━━━━━━━━━━━━━━━━━━━━━━━━\u001b[0m \u001b[32m1.1/1.1 MB\u001b[0m \u001b[31m22.9 MB/s\u001b[0m eta \u001b[36m0:00:00\u001b[0m\n",
            "\u001b[?25hCollecting fiona>=1.8.19 (from geopandas)\n",
            "  Downloading Fiona-1.9.4-cp310-cp310-manylinux_2_17_x86_64.manylinux2014_x86_64.whl (16.5 MB)\n",
            "\u001b[2K     \u001b[90m━━━━━━━━━━━━━━━━━━━━━━━━━━━━━━━━━━━━━━━━\u001b[0m \u001b[32m16.5/16.5 MB\u001b[0m \u001b[31m73.7 MB/s\u001b[0m eta \u001b[36m0:00:00\u001b[0m\n",
            "\u001b[?25hRequirement already satisfied: packaging in /usr/local/lib/python3.10/dist-packages (from geopandas) (23.1)\n",
            "Requirement already satisfied: pandas>=1.1.0 in /usr/local/lib/python3.10/dist-packages (from geopandas) (1.5.3)\n",
            "Collecting pyproj>=3.0.1 (from geopandas)\n",
            "  Downloading pyproj-3.5.0-cp310-cp310-manylinux_2_17_x86_64.manylinux2014_x86_64.whl (7.7 MB)\n",
            "\u001b[2K     \u001b[90m━━━━━━━━━━━━━━━━━━━━━━━━━━━━━━━━━━━━━━━━\u001b[0m \u001b[32m7.7/7.7 MB\u001b[0m \u001b[31m88.1 MB/s\u001b[0m eta \u001b[36m0:00:00\u001b[0m\n",
            "\u001b[?25hRequirement already satisfied: shapely>=1.7.1 in /usr/local/lib/python3.10/dist-packages (from geopandas) (2.0.1)\n",
            "Requirement already satisfied: attrs>=19.2.0 in /usr/local/lib/python3.10/dist-packages (from fiona>=1.8.19->geopandas) (23.1.0)\n",
            "Requirement already satisfied: certifi in /usr/local/lib/python3.10/dist-packages (from fiona>=1.8.19->geopandas) (2022.12.7)\n",
            "Requirement already satisfied: click~=8.0 in /usr/local/lib/python3.10/dist-packages (from fiona>=1.8.19->geopandas) (8.1.3)\n",
            "Collecting click-plugins>=1.0 (from fiona>=1.8.19->geopandas)\n",
            "  Downloading click_plugins-1.1.1-py2.py3-none-any.whl (7.5 kB)\n",
            "Collecting cligj>=0.5 (from fiona>=1.8.19->geopandas)\n",
            "  Downloading cligj-0.7.2-py3-none-any.whl (7.1 kB)\n",
            "Requirement already satisfied: six in /usr/local/lib/python3.10/dist-packages (from fiona>=1.8.19->geopandas) (1.16.0)\n",
            "Requirement already satisfied: python-dateutil>=2.8.1 in /usr/local/lib/python3.10/dist-packages (from pandas>=1.1.0->geopandas) (2.8.2)\n",
            "Requirement already satisfied: pytz>=2020.1 in /usr/local/lib/python3.10/dist-packages (from pandas>=1.1.0->geopandas) (2022.7.1)\n",
            "Requirement already satisfied: numpy>=1.21.0 in /usr/local/lib/python3.10/dist-packages (from pandas>=1.1.0->geopandas) (1.22.4)\n",
            "Installing collected packages: pyproj, cligj, click-plugins, fiona, geopandas\n",
            "Successfully installed click-plugins-1.1.1 cligj-0.7.2 fiona-1.9.4 geopandas-0.13.0 pyproj-3.5.0\n"
          ]
        }
      ],
      "source": [
        "pip install geopandas"
      ]
    },
    {
      "cell_type": "markdown",
      "source": [
        "Load shape file *stm_arrets_sig* (stops) and *stm_lignes_sig.shp* (routes). This dataset contains geospatial information of the routes and stops of the bus and metro lines of the Société de transport de Montréal. Download dataset [Here](https://open.canada.ca/data/en/dataset/a0073997-3a02-4c34-8acf-758a2ee950f4). "
      ],
      "metadata": {
        "id": "r1l7ezcRZF5A"
      }
    },
    {
      "cell_type": "markdown",
      "source": [
        "## Find Data in Shape File"
      ],
      "metadata": {
        "id": "q-kV083N3qdj"
      }
    },
    {
      "cell_type": "markdown",
      "source": [
        "Import geopandas library, and read the shape file with function read_file(), this return a GeoDataFrame into variable stmArretsSig. \n"
      ],
      "metadata": {
        "id": "OJICjF8da53r"
      }
    },
    {
      "cell_type": "code",
      "source": [
        "# import the geopandas class\n",
        "import geopandas\n",
        "\n",
        "# read shape file from path file\n",
        "stmArretsSig = geopandas.read_file(\"/content/stm_arrets_sig.shp\")  "
      ],
      "metadata": {
        "id": "L-Rp5ddv6wt2"
      },
      "execution_count": 73,
      "outputs": []
    },
    {
      "cell_type": "markdown",
      "source": [
        "Show geodataframe data table with function head()."
      ],
      "metadata": {
        "id": "gsZqCs1UcnCi"
      }
    },
    {
      "cell_type": "code",
      "source": [
        "# explore data\n",
        "stmArretsSig.head()"
      ],
      "metadata": {
        "colab": {
          "base_uri": "https://localhost:8080/",
          "height": 478
        },
        "id": "Q7wLmsjhc-CG",
        "outputId": "ba03fea9-50f8-46a5-8200-d095ba3ae456"
      },
      "execution_count": 74,
      "outputs": [
        {
          "output_type": "execute_result",
          "data": {
            "text/plain": [
              "  stop_id  stop_code                        stop_name  \\\n",
              "0   43-01      10118                Station Angrignon   \n",
              "1      43      10118                Station Angrignon   \n",
              "2   42-01      10120  Station Monk - Édicule Nord (B)   \n",
              "3   42-02      10120   Station Monk - Édicule Sud (A)   \n",
              "4      42      10120                     Station Monk   \n",
              "\n",
              "                                            stop_url  wheelchair route_id  \\\n",
              "0                                                NaN           2      NaN   \n",
              "1  http://www.stm.info/fr/infos/reseaux/metro/ang...           2        1   \n",
              "2                                                NaN           2      NaN   \n",
              "3                                                NaN           2      NaN   \n",
              "4    http://www.stm.info/fr/infos/reseaux/metro/monk           2        1   \n",
              "\n",
              "   loc_type service_id                        geometry  \n",
              "0         2        22U  POINT (296677.562 5034048.338)  \n",
              "1         0        22U  POINT (296733.669 5034064.602)  \n",
              "2         2        22U  POINT (297515.753 5034601.626)  \n",
              "3         2        22U  POINT (297496.004 5034568.310)  \n",
              "4         0        22U  POINT (297506.817 5034585.078)  "
            ],
            "text/html": [
              "\n",
              "  <div id=\"df-feee9921-6e1b-4159-80d4-f08a6df96314\">\n",
              "    <div class=\"colab-df-container\">\n",
              "      <div>\n",
              "<style scoped>\n",
              "    .dataframe tbody tr th:only-of-type {\n",
              "        vertical-align: middle;\n",
              "    }\n",
              "\n",
              "    .dataframe tbody tr th {\n",
              "        vertical-align: top;\n",
              "    }\n",
              "\n",
              "    .dataframe thead th {\n",
              "        text-align: right;\n",
              "    }\n",
              "</style>\n",
              "<table border=\"1\" class=\"dataframe\">\n",
              "  <thead>\n",
              "    <tr style=\"text-align: right;\">\n",
              "      <th></th>\n",
              "      <th>stop_id</th>\n",
              "      <th>stop_code</th>\n",
              "      <th>stop_name</th>\n",
              "      <th>stop_url</th>\n",
              "      <th>wheelchair</th>\n",
              "      <th>route_id</th>\n",
              "      <th>loc_type</th>\n",
              "      <th>service_id</th>\n",
              "      <th>geometry</th>\n",
              "    </tr>\n",
              "  </thead>\n",
              "  <tbody>\n",
              "    <tr>\n",
              "      <th>0</th>\n",
              "      <td>43-01</td>\n",
              "      <td>10118</td>\n",
              "      <td>Station Angrignon</td>\n",
              "      <td>NaN</td>\n",
              "      <td>2</td>\n",
              "      <td>NaN</td>\n",
              "      <td>2</td>\n",
              "      <td>22U</td>\n",
              "      <td>POINT (296677.562 5034048.338)</td>\n",
              "    </tr>\n",
              "    <tr>\n",
              "      <th>1</th>\n",
              "      <td>43</td>\n",
              "      <td>10118</td>\n",
              "      <td>Station Angrignon</td>\n",
              "      <td>http://www.stm.info/fr/infos/reseaux/metro/ang...</td>\n",
              "      <td>2</td>\n",
              "      <td>1</td>\n",
              "      <td>0</td>\n",
              "      <td>22U</td>\n",
              "      <td>POINT (296733.669 5034064.602)</td>\n",
              "    </tr>\n",
              "    <tr>\n",
              "      <th>2</th>\n",
              "      <td>42-01</td>\n",
              "      <td>10120</td>\n",
              "      <td>Station Monk - Édicule Nord (B)</td>\n",
              "      <td>NaN</td>\n",
              "      <td>2</td>\n",
              "      <td>NaN</td>\n",
              "      <td>2</td>\n",
              "      <td>22U</td>\n",
              "      <td>POINT (297515.753 5034601.626)</td>\n",
              "    </tr>\n",
              "    <tr>\n",
              "      <th>3</th>\n",
              "      <td>42-02</td>\n",
              "      <td>10120</td>\n",
              "      <td>Station Monk - Édicule Sud (A)</td>\n",
              "      <td>NaN</td>\n",
              "      <td>2</td>\n",
              "      <td>NaN</td>\n",
              "      <td>2</td>\n",
              "      <td>22U</td>\n",
              "      <td>POINT (297496.004 5034568.310)</td>\n",
              "    </tr>\n",
              "    <tr>\n",
              "      <th>4</th>\n",
              "      <td>42</td>\n",
              "      <td>10120</td>\n",
              "      <td>Station Monk</td>\n",
              "      <td>http://www.stm.info/fr/infos/reseaux/metro/monk</td>\n",
              "      <td>2</td>\n",
              "      <td>1</td>\n",
              "      <td>0</td>\n",
              "      <td>22U</td>\n",
              "      <td>POINT (297506.817 5034585.078)</td>\n",
              "    </tr>\n",
              "  </tbody>\n",
              "</table>\n",
              "</div>\n",
              "      <button class=\"colab-df-convert\" onclick=\"convertToInteractive('df-feee9921-6e1b-4159-80d4-f08a6df96314')\"\n",
              "              title=\"Convert this dataframe to an interactive table.\"\n",
              "              style=\"display:none;\">\n",
              "        \n",
              "  <svg xmlns=\"http://www.w3.org/2000/svg\" height=\"24px\"viewBox=\"0 0 24 24\"\n",
              "       width=\"24px\">\n",
              "    <path d=\"M0 0h24v24H0V0z\" fill=\"none\"/>\n",
              "    <path d=\"M18.56 5.44l.94 2.06.94-2.06 2.06-.94-2.06-.94-.94-2.06-.94 2.06-2.06.94zm-11 1L8.5 8.5l.94-2.06 2.06-.94-2.06-.94L8.5 2.5l-.94 2.06-2.06.94zm10 10l.94 2.06.94-2.06 2.06-.94-2.06-.94-.94-2.06-.94 2.06-2.06.94z\"/><path d=\"M17.41 7.96l-1.37-1.37c-.4-.4-.92-.59-1.43-.59-.52 0-1.04.2-1.43.59L10.3 9.45l-7.72 7.72c-.78.78-.78 2.05 0 2.83L4 21.41c.39.39.9.59 1.41.59.51 0 1.02-.2 1.41-.59l7.78-7.78 2.81-2.81c.8-.78.8-2.07 0-2.86zM5.41 20L4 18.59l7.72-7.72 1.47 1.35L5.41 20z\"/>\n",
              "  </svg>\n",
              "      </button>\n",
              "      \n",
              "  <style>\n",
              "    .colab-df-container {\n",
              "      display:flex;\n",
              "      flex-wrap:wrap;\n",
              "      gap: 12px;\n",
              "    }\n",
              "\n",
              "    .colab-df-convert {\n",
              "      background-color: #E8F0FE;\n",
              "      border: none;\n",
              "      border-radius: 50%;\n",
              "      cursor: pointer;\n",
              "      display: none;\n",
              "      fill: #1967D2;\n",
              "      height: 32px;\n",
              "      padding: 0 0 0 0;\n",
              "      width: 32px;\n",
              "    }\n",
              "\n",
              "    .colab-df-convert:hover {\n",
              "      background-color: #E2EBFA;\n",
              "      box-shadow: 0px 1px 2px rgba(60, 64, 67, 0.3), 0px 1px 3px 1px rgba(60, 64, 67, 0.15);\n",
              "      fill: #174EA6;\n",
              "    }\n",
              "\n",
              "    [theme=dark] .colab-df-convert {\n",
              "      background-color: #3B4455;\n",
              "      fill: #D2E3FC;\n",
              "    }\n",
              "\n",
              "    [theme=dark] .colab-df-convert:hover {\n",
              "      background-color: #434B5C;\n",
              "      box-shadow: 0px 1px 3px 1px rgba(0, 0, 0, 0.15);\n",
              "      filter: drop-shadow(0px 1px 2px rgba(0, 0, 0, 0.3));\n",
              "      fill: #FFFFFF;\n",
              "    }\n",
              "  </style>\n",
              "\n",
              "      <script>\n",
              "        const buttonEl =\n",
              "          document.querySelector('#df-feee9921-6e1b-4159-80d4-f08a6df96314 button.colab-df-convert');\n",
              "        buttonEl.style.display =\n",
              "          google.colab.kernel.accessAllowed ? 'block' : 'none';\n",
              "\n",
              "        async function convertToInteractive(key) {\n",
              "          const element = document.querySelector('#df-feee9921-6e1b-4159-80d4-f08a6df96314');\n",
              "          const dataTable =\n",
              "            await google.colab.kernel.invokeFunction('convertToInteractive',\n",
              "                                                     [key], {});\n",
              "          if (!dataTable) return;\n",
              "\n",
              "          const docLinkHtml = 'Like what you see? Visit the ' +\n",
              "            '<a target=\"_blank\" href=https://colab.research.google.com/notebooks/data_table.ipynb>data table notebook</a>'\n",
              "            + ' to learn more about interactive tables.';\n",
              "          element.innerHTML = '';\n",
              "          dataTable['output_type'] = 'display_data';\n",
              "          await google.colab.output.renderOutput(dataTable, element);\n",
              "          const docLink = document.createElement('div');\n",
              "          docLink.innerHTML = docLinkHtml;\n",
              "          element.appendChild(docLink);\n",
              "        }\n",
              "      </script>\n",
              "    </div>\n",
              "  </div>\n",
              "  "
            ]
          },
          "metadata": {},
          "execution_count": 74
        }
      ]
    },
    {
      "cell_type": "markdown",
      "source": [
        "What is the name of the stop with stop_code = 50117?\n",
        "\n",
        "Filter GeoDataFrame stmArretsSig by the *stop_code* column with the condition that its value must equal 50117. And print value of *stop_name* column."
      ],
      "metadata": {
        "id": "xVW8OkEodyF7"
      }
    },
    {
      "cell_type": "code",
      "source": [
        "#Return all rows with stope_code is equal 50117\n",
        "stopName = stmArretsSig[stmArretsSig['stop_code'] == 50117]\n",
        "\n",
        "print(\"Stop name 50117 is \" + stopName['stop_name'])"
      ],
      "metadata": {
        "colab": {
          "base_uri": "https://localhost:8080/"
        },
        "id": "BXDjR_hdI-ZJ",
        "outputId": "47460611-748f-4fc1-f7b0-69f3790abadb"
      },
      "execution_count": 75,
      "outputs": [
        {
          "output_type": "stream",
          "name": "stdout",
          "text": [
            "222    Stop name 50117 is Station Jean-Drapeau\n",
            "Name: stop_name, dtype: object\n"
          ]
        }
      ]
    },
    {
      "cell_type": "markdown",
      "source": [
        "## Filter and Count rows"
      ],
      "metadata": {
        "id": "so17_rpGgYnf"
      }
    },
    {
      "cell_type": "markdown",
      "source": [
        "Read the *stm_lignes_sig* file."
      ],
      "metadata": {
        "id": "VEKPOe4UgkJI"
      }
    },
    {
      "cell_type": "code",
      "source": [
        "stmLignesSig = geopandas.read_file(\"/content/stm_lignes_sig.shp\")  \n",
        "stmLignesSig.head()"
      ],
      "metadata": {
        "colab": {
          "base_uri": "https://localhost:8080/",
          "height": 337
        },
        "id": "YjlkbbmKlKr6",
        "outputId": "312aed5e-ccbd-43ee-c91f-7689adc69142"
      },
      "execution_count": 10,
      "outputs": [
        {
          "output_type": "execute_result",
          "data": {
            "text/plain": [
              "   route_id                  headsign route_name  shape_id service_id  \\\n",
              "0         1         STATION ANGRIGNON      Verte     11072        22U   \n",
              "1         1  STATION HONORÉ-BEAUGRAND      Verte     11071        22U   \n",
              "2         2        STATION CÔTE-VERTU     Orange     20236        22U   \n",
              "3         2        STATION CÔTE-VERTU     Orange     20238        22U   \n",
              "4         2    STATION HENRI-BOURASSA     Orange     20239        22U   \n",
              "\n",
              "                                            geometry  \n",
              "0  LINESTRING (302040.087 5050741.446, 301735.980...  \n",
              "1  LINESTRING (296733.669 5034064.602, 297506.817...  \n",
              "2  LINESTRING (287432.768 5046526.781, 288453.790...  \n",
              "3  LINESTRING (291670.183 5046165.402, 292618.193...  \n",
              "4  LINESTRING (290521.096 5041607.071, 291141.889...  "
            ],
            "text/html": [
              "\n",
              "  <div id=\"df-e95bd9ad-ab57-4286-9527-627c0e8c43f5\">\n",
              "    <div class=\"colab-df-container\">\n",
              "      <div>\n",
              "<style scoped>\n",
              "    .dataframe tbody tr th:only-of-type {\n",
              "        vertical-align: middle;\n",
              "    }\n",
              "\n",
              "    .dataframe tbody tr th {\n",
              "        vertical-align: top;\n",
              "    }\n",
              "\n",
              "    .dataframe thead th {\n",
              "        text-align: right;\n",
              "    }\n",
              "</style>\n",
              "<table border=\"1\" class=\"dataframe\">\n",
              "  <thead>\n",
              "    <tr style=\"text-align: right;\">\n",
              "      <th></th>\n",
              "      <th>route_id</th>\n",
              "      <th>headsign</th>\n",
              "      <th>route_name</th>\n",
              "      <th>shape_id</th>\n",
              "      <th>service_id</th>\n",
              "      <th>geometry</th>\n",
              "    </tr>\n",
              "  </thead>\n",
              "  <tbody>\n",
              "    <tr>\n",
              "      <th>0</th>\n",
              "      <td>1</td>\n",
              "      <td>STATION ANGRIGNON</td>\n",
              "      <td>Verte</td>\n",
              "      <td>11072</td>\n",
              "      <td>22U</td>\n",
              "      <td>LINESTRING (302040.087 5050741.446, 301735.980...</td>\n",
              "    </tr>\n",
              "    <tr>\n",
              "      <th>1</th>\n",
              "      <td>1</td>\n",
              "      <td>STATION HONORÉ-BEAUGRAND</td>\n",
              "      <td>Verte</td>\n",
              "      <td>11071</td>\n",
              "      <td>22U</td>\n",
              "      <td>LINESTRING (296733.669 5034064.602, 297506.817...</td>\n",
              "    </tr>\n",
              "    <tr>\n",
              "      <th>2</th>\n",
              "      <td>2</td>\n",
              "      <td>STATION CÔTE-VERTU</td>\n",
              "      <td>Orange</td>\n",
              "      <td>20236</td>\n",
              "      <td>22U</td>\n",
              "      <td>LINESTRING (287432.768 5046526.781, 288453.790...</td>\n",
              "    </tr>\n",
              "    <tr>\n",
              "      <th>3</th>\n",
              "      <td>2</td>\n",
              "      <td>STATION CÔTE-VERTU</td>\n",
              "      <td>Orange</td>\n",
              "      <td>20238</td>\n",
              "      <td>22U</td>\n",
              "      <td>LINESTRING (291670.183 5046165.402, 292618.193...</td>\n",
              "    </tr>\n",
              "    <tr>\n",
              "      <th>4</th>\n",
              "      <td>2</td>\n",
              "      <td>STATION HENRI-BOURASSA</td>\n",
              "      <td>Orange</td>\n",
              "      <td>20239</td>\n",
              "      <td>22U</td>\n",
              "      <td>LINESTRING (290521.096 5041607.071, 291141.889...</td>\n",
              "    </tr>\n",
              "  </tbody>\n",
              "</table>\n",
              "</div>\n",
              "      <button class=\"colab-df-convert\" onclick=\"convertToInteractive('df-e95bd9ad-ab57-4286-9527-627c0e8c43f5')\"\n",
              "              title=\"Convert this dataframe to an interactive table.\"\n",
              "              style=\"display:none;\">\n",
              "        \n",
              "  <svg xmlns=\"http://www.w3.org/2000/svg\" height=\"24px\"viewBox=\"0 0 24 24\"\n",
              "       width=\"24px\">\n",
              "    <path d=\"M0 0h24v24H0V0z\" fill=\"none\"/>\n",
              "    <path d=\"M18.56 5.44l.94 2.06.94-2.06 2.06-.94-2.06-.94-.94-2.06-.94 2.06-2.06.94zm-11 1L8.5 8.5l.94-2.06 2.06-.94-2.06-.94L8.5 2.5l-.94 2.06-2.06.94zm10 10l.94 2.06.94-2.06 2.06-.94-2.06-.94-.94-2.06-.94 2.06-2.06.94z\"/><path d=\"M17.41 7.96l-1.37-1.37c-.4-.4-.92-.59-1.43-.59-.52 0-1.04.2-1.43.59L10.3 9.45l-7.72 7.72c-.78.78-.78 2.05 0 2.83L4 21.41c.39.39.9.59 1.41.59.51 0 1.02-.2 1.41-.59l7.78-7.78 2.81-2.81c.8-.78.8-2.07 0-2.86zM5.41 20L4 18.59l7.72-7.72 1.47 1.35L5.41 20z\"/>\n",
              "  </svg>\n",
              "      </button>\n",
              "      \n",
              "  <style>\n",
              "    .colab-df-container {\n",
              "      display:flex;\n",
              "      flex-wrap:wrap;\n",
              "      gap: 12px;\n",
              "    }\n",
              "\n",
              "    .colab-df-convert {\n",
              "      background-color: #E8F0FE;\n",
              "      border: none;\n",
              "      border-radius: 50%;\n",
              "      cursor: pointer;\n",
              "      display: none;\n",
              "      fill: #1967D2;\n",
              "      height: 32px;\n",
              "      padding: 0 0 0 0;\n",
              "      width: 32px;\n",
              "    }\n",
              "\n",
              "    .colab-df-convert:hover {\n",
              "      background-color: #E2EBFA;\n",
              "      box-shadow: 0px 1px 2px rgba(60, 64, 67, 0.3), 0px 1px 3px 1px rgba(60, 64, 67, 0.15);\n",
              "      fill: #174EA6;\n",
              "    }\n",
              "\n",
              "    [theme=dark] .colab-df-convert {\n",
              "      background-color: #3B4455;\n",
              "      fill: #D2E3FC;\n",
              "    }\n",
              "\n",
              "    [theme=dark] .colab-df-convert:hover {\n",
              "      background-color: #434B5C;\n",
              "      box-shadow: 0px 1px 3px 1px rgba(0, 0, 0, 0.15);\n",
              "      filter: drop-shadow(0px 1px 2px rgba(0, 0, 0, 0.3));\n",
              "      fill: #FFFFFF;\n",
              "    }\n",
              "  </style>\n",
              "\n",
              "      <script>\n",
              "        const buttonEl =\n",
              "          document.querySelector('#df-e95bd9ad-ab57-4286-9527-627c0e8c43f5 button.colab-df-convert');\n",
              "        buttonEl.style.display =\n",
              "          google.colab.kernel.accessAllowed ? 'block' : 'none';\n",
              "\n",
              "        async function convertToInteractive(key) {\n",
              "          const element = document.querySelector('#df-e95bd9ad-ab57-4286-9527-627c0e8c43f5');\n",
              "          const dataTable =\n",
              "            await google.colab.kernel.invokeFunction('convertToInteractive',\n",
              "                                                     [key], {});\n",
              "          if (!dataTable) return;\n",
              "\n",
              "          const docLinkHtml = 'Like what you see? Visit the ' +\n",
              "            '<a target=\"_blank\" href=https://colab.research.google.com/notebooks/data_table.ipynb>data table notebook</a>'\n",
              "            + ' to learn more about interactive tables.';\n",
              "          element.innerHTML = '';\n",
              "          dataTable['output_type'] = 'display_data';\n",
              "          await google.colab.output.renderOutput(dataTable, element);\n",
              "          const docLink = document.createElement('div');\n",
              "          docLink.innerHTML = docLinkHtml;\n",
              "          element.appendChild(docLink);\n",
              "        }\n",
              "      </script>\n",
              "    </div>\n",
              "  </div>\n",
              "  "
            ]
          },
          "metadata": {},
          "execution_count": 10
        }
      ]
    },
    {
      "cell_type": "markdown",
      "source": [
        "How many transit routes exists?\n",
        "\n",
        "Use the .value_counts method [(see Value counts)](https://pandas.pydata.org/docs/reference/api/pandas.DataFrame.value_counts.html?highlight=value_counts#pandas.DataFrame.value_counts), which returns the number of occurences of each value in a Series. Then, print the length of the transit routes."
      ],
      "metadata": {
        "id": "clM8eATug5DJ"
      }
    },
    {
      "cell_type": "code",
      "source": [
        "total_routes = len(stmLignesSig['route_id'].value_counts())\n",
        "print( str(total_routes) + ' Transit routes')"
      ],
      "metadata": {
        "colab": {
          "base_uri": "https://localhost:8080/"
        },
        "id": "S0h1H5PanVZD",
        "outputId": "c2f3654c-1bb1-4733-e2ef-3c61fa3b8530"
      },
      "execution_count": 76,
      "outputs": [
        {
          "output_type": "stream",
          "name": "stdout",
          "text": [
            "217 Transit routes\n"
          ]
        }
      ]
    },
    {
      "cell_type": "markdown",
      "source": [
        "## Spatial Filter (Within and Intersect) \n",
        "\n",
        "We must find all transit stops within a radius of 1 km from the point with coordinates -73.587519, 45.504840.\n",
        "\n",
        "### 1. Transformations of Geometric Objects\n",
        "\n",
        "Import pyproj library to project geometries from WKT string POINT(-73.587519 45.504840).\n",
        "\n",
        "Create a shapely geometry object, pass the WKT string to the shapely.wkt.loads function."
      ],
      "metadata": {
        "id": "SJUva2fSjYSJ"
      }
    },
    {
      "cell_type": "code",
      "source": [
        "import pyproj\n",
        "import shapely.wkt\n",
        "from shapely.ops import transform\n",
        "from shapely import Point\n",
        "\n",
        "POINTSTRING = 'POINT (-73.587519 45.504840)'\n",
        "point = shapely.wkt.loads(POINTSTRING)"
      ],
      "metadata": {
        "id": "09RPJ5JVm4I7"
      },
      "execution_count": 77,
      "outputs": []
    },
    {
      "cell_type": "markdown",
      "source": [
        "Create two variable to EPSG initial (EPSG:4326) and EPGS final (EPGS:32188) and transform coordinates X,Y the new system. [(See Transformations)](https://shapely.readthedocs.io/en/stable/manual.html#other-transformations)"
      ],
      "metadata": {
        "id": "7ZdI9yk9nAmm"
      }
    },
    {
      "cell_type": "code",
      "source": [
        "wgs84 = pyproj.CRS('EPSG:4326')\n",
        "nd83 = pyproj.CRS('EPSG:32188')\n",
        "\n",
        "project = pyproj.Transformer.from_crs(wgs84, nd83, always_xy=True).transform\n",
        "nd83_point = transform(project, point)\n",
        "\n",
        "nd83_point.coords.xy"
      ],
      "metadata": {
        "colab": {
          "base_uri": "https://localhost:8080/"
        },
        "id": "bonoxa8zp5Yy",
        "outputId": "dd3ac39a-2eec-4c21-eadc-940992197b61"
      },
      "execution_count": 78,
      "outputs": [
        {
          "output_type": "execute_result",
          "data": {
            "text/plain": [
              "(array('d', [297960.95452469634]), array('d', [5040550.255491475]))"
            ]
          },
          "metadata": {},
          "execution_count": 78
        }
      ]
    },
    {
      "cell_type": "markdown",
      "source": [
        "### 2. Create a Buffer\n",
        "\n",
        "Create buffer of 1 kilometer (1000 meter)."
      ],
      "metadata": {
        "id": "sOSky1FVqCvn"
      }
    },
    {
      "cell_type": "code",
      "source": [
        "pointBuffer = nd83_point.buffer(1000)"
      ],
      "metadata": {
        "id": "jRV401s2znKo"
      },
      "execution_count": 80,
      "outputs": []
    },
    {
      "cell_type": "markdown",
      "source": [
        "### 3. Transit Stops Within Buffer\n",
        "\n",
        "Use *within* method to return a *Series* of dtype('bool') with value True for each aligned geometry that is within of buffer."
      ],
      "metadata": {
        "id": "SwrG6F4Qr-Sm"
      }
    },
    {
      "cell_type": "code",
      "source": [
        "stop_mask = stmArretsSig.within(pointBuffer)\n",
        "print(stop_mask)"
      ],
      "metadata": {
        "colab": {
          "base_uri": "https://localhost:8080/"
        },
        "id": "V4VBwEsMrt5B",
        "outputId": "379debef-30d8-401d-c3ef-93d2aae273ab"
      },
      "execution_count": 81,
      "outputs": [
        {
          "output_type": "stream",
          "name": "stdout",
          "text": [
            "0       False\n",
            "1       False\n",
            "2       False\n",
            "3       False\n",
            "4       False\n",
            "        ...  \n",
            "8939    False\n",
            "8940    False\n",
            "8941    False\n",
            "8942    False\n",
            "8943    False\n",
            "Length: 8944, dtype: bool\n"
          ]
        }
      ]
    },
    {
      "cell_type": "markdown",
      "source": [
        "we have an array of boolean values for each row. Now, we can select point that are inside to the buffer. \n",
        "\n",
        "Use *loc* function on stmArretsSig.\n",
        "\n"
      ],
      "metadata": {
        "id": "qT9vETZuuf-L"
      }
    },
    {
      "cell_type": "code",
      "source": [
        "transit_stop = stmArretsSig.loc[stop_mask]"
      ],
      "metadata": {
        "id": "Ut0WOdawvnKB"
      },
      "execution_count": 84,
      "outputs": []
    },
    {
      "cell_type": "markdown",
      "source": [
        "How many transit stops are within the buffer area?"
      ],
      "metadata": {
        "id": "R-XeO7E8wI70"
      }
    },
    {
      "cell_type": "code",
      "source": [
        "len(transit_stop)"
      ],
      "metadata": {
        "colab": {
          "base_uri": "https://localhost:8080/"
        },
        "id": "kxN2aoT9vsqj",
        "outputId": "63747aa2-71eb-4b0c-ceec-21eee376148f"
      },
      "execution_count": 85,
      "outputs": [
        {
          "output_type": "execute_result",
          "data": {
            "text/plain": [
              "42"
            ]
          },
          "metadata": {},
          "execution_count": 85
        }
      ]
    },
    {
      "cell_type": "markdown",
      "source": [
        "Visualize transit stops:"
      ],
      "metadata": {
        "id": "79B3aAq3wRS_"
      }
    },
    {
      "cell_type": "code",
      "source": [
        "transit_stop.plot()"
      ],
      "metadata": {
        "colab": {
          "base_uri": "https://localhost:8080/",
          "height": 462
        },
        "id": "PWVlmpi5QD0b",
        "outputId": "083fd8f8-77d7-4874-8d21-06e6d91c7c25"
      },
      "execution_count": 86,
      "outputs": [
        {
          "output_type": "execute_result",
          "data": {
            "text/plain": [
              "<Axes: >"
            ]
          },
          "metadata": {},
          "execution_count": 86
        },
        {
          "output_type": "display_data",
          "data": {
            "text/plain": [
              "<Figure size 640x480 with 1 Axes>"
            ],
            "image/png": "[encoded data removed]"
          },
          "metadata": {}
        }
      ]
    },
    {
      "cell_type": "markdown",
      "source": [
        "Which transit routes serves these stops?\n",
        "\n",
        "Intersect route serves with buffer, then:"
      ],
      "metadata": {
        "id": "ueZWnScUwkwM"
      }
    },
    {
      "cell_type": "code",
      "source": [
        "route_mask = stmLignesSig.intersects(pointBuffer)\n",
        "\n",
        "print(route_mask)"
      ],
      "metadata": {
        "colab": {
          "base_uri": "https://localhost:8080/"
        },
        "id": "euU6QqTLRYd8",
        "outputId": "69d63454-6fc1-4e47-c4b6-8560f8284786"
      },
      "execution_count": 87,
      "outputs": [
        {
          "output_type": "stream",
          "name": "stdout",
          "text": [
            "0      False\n",
            "1      False\n",
            "2      False\n",
            "3      False\n",
            "4      False\n",
            "       ...  \n",
            "563    False\n",
            "564    False\n",
            "565    False\n",
            "566    False\n",
            "567    False\n",
            "Length: 568, dtype: bool\n"
          ]
        }
      ]
    },
    {
      "cell_type": "markdown",
      "source": [
        "The transit routes serves are:"
      ],
      "metadata": {
        "id": "1xiFQzEMw_UV"
      }
    },
    {
      "cell_type": "code",
      "source": [
        "routes_serves = stmLignesSig.loc[route_mask]\n",
        "len(routes_serves)"
      ],
      "metadata": {
        "colab": {
          "base_uri": "https://localhost:8080/"
        },
        "id": "TbdIBCMgSoB4",
        "outputId": "b71b9a48-038d-4f7a-fe2f-eeee0b683af3"
      },
      "execution_count": 88,
      "outputs": [
        {
          "output_type": "execute_result",
          "data": {
            "text/plain": [
              "34"
            ]
          },
          "metadata": {},
          "execution_count": 88
        }
      ]
    },
    {
      "cell_type": "markdown",
      "source": [
        "Save the transit routes serves to GeoJSON."
      ],
      "metadata": {
        "id": "i4ZYgdhBw4p7"
      }
    },
    {
      "cell_type": "code",
      "source": [
        "routes_serves.to_file(\"/content/result/routes_serves.geojson\", driver='GeoJSON')"
      ],
      "metadata": {
        "id": "xlAC2BZGw6CW"
      },
      "execution_count": 92,
      "outputs": []
    },
    {
      "cell_type": "markdown",
      "source": [
        "# Thank you for taking the time to read"
      ],
      "metadata": {
        "id": "jFv1zriXxbas"
      }
    }
  ]
}